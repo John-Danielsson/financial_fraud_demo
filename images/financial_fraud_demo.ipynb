{
 "cells": [
  {
   "attachments": {},
   "cell_type": "markdown",
   "metadata": {},
   "source": [
    "<!--\n",
    "Credit to \"prashant111\" on Kaggle:\n",
    "https://www.kaggle.com/code/prashant111/a-guide-on-xgboost-hyperparameters-tuning\n",
    "-->\n",
    "\n",
    "# Predicting financial fraud\n",
    "\n",
    "This is a notebook demonstrating how to analyze a dataset and make an XGBoost model using Bayesian Hyperparameter tuning to predict fraud with a high level of accuracy.\n",
    "\n",
    "\n",
    "## Contents\n",
    "\n",
    "1. The data\n",
    "\n",
    "2. What is the XGBoost model?\n",
    "\n",
    "3. Parameters of the XGBoost model\n",
    "\n",
    "4. Bayesian Hyperparameter tuning\n",
    "\n",
    "5. Why I use XGBoost and Bayesian Hyperparameter tuning\n",
    "\n",
    "6. Code"
   ]
  },
  {
   "attachments": {},
   "cell_type": "markdown",
   "metadata": {},
   "source": [
    "# The data\n",
    "\n",
    "The data is a large (493.53 MB) .csv file from kaggle.com ([link](https://www.kaggle.com/code/arjunjoshua/predicting-fraud-in-financial-payment-services/input)).\n",
    "\n",
    "\n",
    "## Description\n",
    "\n",
    "Paysim synthetic dataset of mobile money transactions. Each step represents an hour of simulation. This dataset is scaled down 1/4 of the original dataset which is presented in the paper \"PaySim: A financial mobile money simulator for fraud detection\".\n",
    "\n",
    "## Shape\n",
    "\n",
    "rows: 6,362,620\n",
    "\n",
    "columns: 11\n",
    "\n",
    "## Column names\n",
    "\n",
    "### step\n",
    "Maps a unit of time in the real world. In this case 1 step is 1 hour of time.\n",
    "\n",
    "### type\n",
    "Transaction type, either ```\"CASH-IN\"```, ```\"CASH-OUT\"```, ```\"DEBIT\"```, ```\"PAYMENT\"``` or ```\"TRANSFER\"```.\n",
    "\n",
    "### amount\n",
    "The amount of the transaction in local currency.\n",
    "\n",
    "### nameOrig\n",
    "The customer who started the transaction.\n",
    "\n",
    "### oldbalanceOrg\n",
    "The initial balance before the transaction.\n",
    "\n",
    "### newbalanceOrg\n",
    "The customer's balance after the transaction.\n",
    "\n",
    "### nameDest\n",
    "The recipient ID of the transaction.\n",
    "\n",
    "### oldbalanceDest\n",
    "The initial recipient balance before the transaction.\n",
    "\n",
    "### newbalanceDest\n",
    "The recipient's balance after the transaction.\n",
    "\n",
    "### isFraud\n",
    "Identifies a fraudulent transaction (1) and non fraudulent (0)\n",
    "\n",
    "### isFlaggedFraud\n",
    "Flags illegal attempts to transfer more than 200.000 in a single transaction."
   ]
  },
  {
   "attachments": {},
   "cell_type": "markdown",
   "metadata": {},
   "source": [
    "## What is the XGBoost model?\n",
    "\n",
    "XGBoost stands for e**X**treme **G**radient **Boost**. It's a powerful machine learning algorithm used for classification tasks.\n",
    "\n",
    "It's a gradient-boosted decision tree model\n",
    "\n",
    "For more details, here's the [Nvidia glossary page for XGBoost](https://www.nvidia.com/en-us/glossary/data-science/xgboost/#:~:text=XGBoost%2C%20which%20stands%20for%20Extreme,%2C%20classification%2C%20and%20ranking%20problems.). "
   ]
  },
  {
   "attachments": {},
   "cell_type": "markdown",
   "metadata": {},
   "source": [
    "## Parameters of the XGBoost model"
   ]
  },
  {
   "attachments": {},
   "cell_type": "markdown",
   "metadata": {},
   "source": [
    "## Bayesian Hyperparameter Tuning"
   ]
  },
  {
   "attachments": {},
   "cell_type": "markdown",
   "metadata": {},
   "source": [
    "## Why I use XGBoost and Bayesian Hyperparameter tuning"
   ]
  },
  {
   "attachments": {},
   "cell_type": "markdown",
   "metadata": {},
   "source": [
    "## Code"
   ]
  },
  {
   "cell_type": "code",
   "execution_count": null,
   "metadata": {},
   "outputs": [],
   "source": [
    "# import all necessary libraries\n",
    "from sys import modules\n",
    "from os import listdir\n",
    "import pandas as pd\n",
    "import numpy as np\n",
    "if not \"seaborn\" in modules:\n",
    "    %pip install seaborn\n",
    "import seaborn as sns\n",
    "if not \"matplotlib\" in modules:\n",
    "    %pip install matplotlib\n",
    "import matplotlib as plt\n",
    "if not \"xgboost\" in modules:\n",
    "    %pip install xgboost\n",
    "from xgboost import XGBClassifier\n",
    "if not \"sklearn\" in modules:\n",
    "    %pip install sklearn\n",
    "from sklearn.model_selection import train_test_split, GridSearchCV, RandomizedSearchCV\n",
    "from sklearn.metrics import accuracy_score\n",
    "if not \"kaggle\" in modules:\n",
    "    %pip install kaggle\n",
    "import kaggle\n",
    "if not \"hyperopt\" in modules:\n",
    "    %pip install hyperopt\n",
    "from hyperopt import STATUS_OK, Trials, fmin, hp, tpe\n",
    "# random state to be used for the whole program\n",
    "random_state = 3"
   ]
  },
  {
   "cell_type": "code",
   "execution_count": 58,
   "metadata": {},
   "outputs": [],
   "source": [
    "space = {\n",
    "    'max_depth': hp.quniform(\"max_depth\", 3, 18, 1),\n",
    "    'gamma': hp.uniform ('gamma', 1,9),\n",
    "    'reg_alpha' : hp.quniform('reg_alpha', 40,180,1),\n",
    "    'reg_lambda' : hp.uniform('reg_lambda', 0,1),\n",
    "    'colsample_bytree' : hp.uniform('colsample_bytree', 0.5,1),\n",
    "    'min_child_weight' : hp.quniform('min_child_weight', 0, 10, 1),\n",
    "    'n_estimators': 180,\n",
    "    'seed': 0\n",
    "    }"
   ]
  },
  {
   "cell_type": "code",
   "execution_count": 59,
   "metadata": {},
   "outputs": [],
   "source": [
    "def objective(space):\n",
    "    clf = XGBClassifier(\n",
    "        n_estimators=space['n_estimators'],\n",
    "        max_depth=int(space['max_depth']),\n",
    "        gamma=space['gamma'],\n",
    "        reg_alpha=int(space['reg_alpha']),\n",
    "        min_child_weight=int(space['min_child_weight']),\n",
    "        colsample_bytree=int(space['colsample_bytree'])\n",
    "    )\n",
    "    \n",
    "    evaluation = [(X_train, y_train), (X_test, y_test)]\n",
    "    \n",
    "    clf.fit(\n",
    "        X_train,\n",
    "        y_train,\n",
    "        eval_set=evaluation,\n",
    "        eval_metric=\"auc\",\n",
    "        early_stopping_rounds=10,\n",
    "        verbose=False\n",
    "    )\n",
    "    \n",
    "\n",
    "    pred = clf.predict(X_test)\n",
    "    accuracy = accuracy_score(y_test, pred>0.5)\n",
    "    print (\"SCORE:\", accuracy)\n",
    "    return {'loss': -accuracy, 'status': STATUS_OK }"
   ]
  },
  {
   "cell_type": "code",
   "execution_count": null,
   "metadata": {},
   "outputs": [],
   "source": [
    "trials = Trials()\n",
    "\n",
    "best_hyperparams = fmin(\n",
    "    fn=objective,\n",
    "    space=space,\n",
    "    algo=tpe.suggest,\n",
    "    max_evals=100,\n",
    "    trials=trials\n",
    ")"
   ]
  },
  {
   "cell_type": "code",
   "execution_count": 3,
   "metadata": {},
   "outputs": [],
   "source": [
    "# set up kaggle API access\n",
    "# make sure to upload your API key, which should be in a file called \"kaggle.json\"\n",
    "if \"kaggle.json\" in listdir():\n",
    "    if not \".kaggle\" in listdir():\n",
    "        %mkdir ~/.kaggle/\n",
    "    if not \".kaggle\" in listdir(\".kaggle\"):\n",
    "        %mv kaggle.json ~/.kaggle/\n",
    "\n",
    "# copy this into the terminal\n",
    "# chmod 600 ~/.kaggle/kaggle.json"
   ]
  },
  {
   "attachments": {},
   "cell_type": "markdown",
   "metadata": {},
   "source": [
    "You can download the dataset [here](https://www.kaggle.com/code/arjunjoshua/predicting-fraud-in-financial-payment-services/input)."
   ]
  },
  {
   "cell_type": "code",
   "execution_count": 4,
   "metadata": {},
   "outputs": [],
   "source": [
    "df = pd.read_csv(\"PS_20174392719_1491204439457_log.csv\")"
   ]
  },
  {
   "cell_type": "code",
   "execution_count": 60,
   "metadata": {},
   "outputs": [
    {
     "data": {
      "text/plain": [
       "(6362620, 11)"
      ]
     },
     "execution_count": 60,
     "metadata": {},
     "output_type": "execute_result"
    }
   ],
   "source": [
    "df.shape\n",
    "# (6362620, 11)"
   ]
  },
  {
   "cell_type": "code",
   "execution_count": 6,
   "metadata": {},
   "outputs": [
    {
     "data": {
      "text/html": [
       "<div>\n",
       "<style scoped>\n",
       "    .dataframe tbody tr th:only-of-type {\n",
       "        vertical-align: middle;\n",
       "    }\n",
       "\n",
       "    .dataframe tbody tr th {\n",
       "        vertical-align: top;\n",
       "    }\n",
       "\n",
       "    .dataframe thead th {\n",
       "        text-align: right;\n",
       "    }\n",
       "</style>\n",
       "<table border=\"1\" class=\"dataframe\">\n",
       "  <thead>\n",
       "    <tr style=\"text-align: right;\">\n",
       "      <th></th>\n",
       "      <th>step</th>\n",
       "      <th>amount</th>\n",
       "      <th>oldbalanceOrg</th>\n",
       "      <th>newbalanceOrig</th>\n",
       "      <th>oldbalanceDest</th>\n",
       "      <th>newbalanceDest</th>\n",
       "      <th>isFraud</th>\n",
       "      <th>isFlaggedFraud</th>\n",
       "    </tr>\n",
       "  </thead>\n",
       "  <tbody>\n",
       "    <tr>\n",
       "      <th>count</th>\n",
       "      <td>6.362620e+06</td>\n",
       "      <td>6.362620e+06</td>\n",
       "      <td>6.362620e+06</td>\n",
       "      <td>6.362620e+06</td>\n",
       "      <td>6.362620e+06</td>\n",
       "      <td>6.362620e+06</td>\n",
       "      <td>6.362620e+06</td>\n",
       "      <td>6.362620e+06</td>\n",
       "    </tr>\n",
       "    <tr>\n",
       "      <th>mean</th>\n",
       "      <td>2.433972e+02</td>\n",
       "      <td>1.798619e+05</td>\n",
       "      <td>8.338831e+05</td>\n",
       "      <td>8.551137e+05</td>\n",
       "      <td>1.100702e+06</td>\n",
       "      <td>1.224996e+06</td>\n",
       "      <td>1.290820e-03</td>\n",
       "      <td>2.514687e-06</td>\n",
       "    </tr>\n",
       "    <tr>\n",
       "      <th>std</th>\n",
       "      <td>1.423320e+02</td>\n",
       "      <td>6.038582e+05</td>\n",
       "      <td>2.888243e+06</td>\n",
       "      <td>2.924049e+06</td>\n",
       "      <td>3.399180e+06</td>\n",
       "      <td>3.674129e+06</td>\n",
       "      <td>3.590480e-02</td>\n",
       "      <td>1.585775e-03</td>\n",
       "    </tr>\n",
       "    <tr>\n",
       "      <th>min</th>\n",
       "      <td>1.000000e+00</td>\n",
       "      <td>0.000000e+00</td>\n",
       "      <td>0.000000e+00</td>\n",
       "      <td>0.000000e+00</td>\n",
       "      <td>0.000000e+00</td>\n",
       "      <td>0.000000e+00</td>\n",
       "      <td>0.000000e+00</td>\n",
       "      <td>0.000000e+00</td>\n",
       "    </tr>\n",
       "    <tr>\n",
       "      <th>25%</th>\n",
       "      <td>1.560000e+02</td>\n",
       "      <td>1.338957e+04</td>\n",
       "      <td>0.000000e+00</td>\n",
       "      <td>0.000000e+00</td>\n",
       "      <td>0.000000e+00</td>\n",
       "      <td>0.000000e+00</td>\n",
       "      <td>0.000000e+00</td>\n",
       "      <td>0.000000e+00</td>\n",
       "    </tr>\n",
       "    <tr>\n",
       "      <th>50%</th>\n",
       "      <td>2.390000e+02</td>\n",
       "      <td>7.487194e+04</td>\n",
       "      <td>1.420800e+04</td>\n",
       "      <td>0.000000e+00</td>\n",
       "      <td>1.327057e+05</td>\n",
       "      <td>2.146614e+05</td>\n",
       "      <td>0.000000e+00</td>\n",
       "      <td>0.000000e+00</td>\n",
       "    </tr>\n",
       "    <tr>\n",
       "      <th>75%</th>\n",
       "      <td>3.350000e+02</td>\n",
       "      <td>2.087215e+05</td>\n",
       "      <td>1.073152e+05</td>\n",
       "      <td>1.442584e+05</td>\n",
       "      <td>9.430367e+05</td>\n",
       "      <td>1.111909e+06</td>\n",
       "      <td>0.000000e+00</td>\n",
       "      <td>0.000000e+00</td>\n",
       "    </tr>\n",
       "    <tr>\n",
       "      <th>max</th>\n",
       "      <td>7.430000e+02</td>\n",
       "      <td>9.244552e+07</td>\n",
       "      <td>5.958504e+07</td>\n",
       "      <td>4.958504e+07</td>\n",
       "      <td>3.560159e+08</td>\n",
       "      <td>3.561793e+08</td>\n",
       "      <td>1.000000e+00</td>\n",
       "      <td>1.000000e+00</td>\n",
       "    </tr>\n",
       "  </tbody>\n",
       "</table>\n",
       "</div>"
      ],
      "text/plain": [
       "               step        amount  oldbalanceOrg  newbalanceOrig  \\\n",
       "count  6.362620e+06  6.362620e+06   6.362620e+06    6.362620e+06   \n",
       "mean   2.433972e+02  1.798619e+05   8.338831e+05    8.551137e+05   \n",
       "std    1.423320e+02  6.038582e+05   2.888243e+06    2.924049e+06   \n",
       "min    1.000000e+00  0.000000e+00   0.000000e+00    0.000000e+00   \n",
       "25%    1.560000e+02  1.338957e+04   0.000000e+00    0.000000e+00   \n",
       "50%    2.390000e+02  7.487194e+04   1.420800e+04    0.000000e+00   \n",
       "75%    3.350000e+02  2.087215e+05   1.073152e+05    1.442584e+05   \n",
       "max    7.430000e+02  9.244552e+07   5.958504e+07    4.958504e+07   \n",
       "\n",
       "       oldbalanceDest  newbalanceDest       isFraud  isFlaggedFraud  \n",
       "count    6.362620e+06    6.362620e+06  6.362620e+06    6.362620e+06  \n",
       "mean     1.100702e+06    1.224996e+06  1.290820e-03    2.514687e-06  \n",
       "std      3.399180e+06    3.674129e+06  3.590480e-02    1.585775e-03  \n",
       "min      0.000000e+00    0.000000e+00  0.000000e+00    0.000000e+00  \n",
       "25%      0.000000e+00    0.000000e+00  0.000000e+00    0.000000e+00  \n",
       "50%      1.327057e+05    2.146614e+05  0.000000e+00    0.000000e+00  \n",
       "75%      9.430367e+05    1.111909e+06  0.000000e+00    0.000000e+00  \n",
       "max      3.560159e+08    3.561793e+08  1.000000e+00    1.000000e+00  "
      ]
     },
     "execution_count": 6,
     "metadata": {},
     "output_type": "execute_result"
    }
   ],
   "source": [
    "# see if anything pops out with basic stats\n",
    "df.describe()"
   ]
  },
  {
   "cell_type": "code",
   "execution_count": 7,
   "metadata": {},
   "outputs": [
    {
     "name": "stdout",
     "output_type": "stream",
     "text": [
      "<class 'pandas.core.frame.DataFrame'>\n",
      "RangeIndex: 6362620 entries, 0 to 6362619\n",
      "Data columns (total 11 columns):\n",
      " #   Column          Dtype  \n",
      "---  ------          -----  \n",
      " 0   step            int64  \n",
      " 1   type            object \n",
      " 2   amount          float64\n",
      " 3   nameOrig        object \n",
      " 4   oldbalanceOrg   float64\n",
      " 5   newbalanceOrig  float64\n",
      " 6   nameDest        object \n",
      " 7   oldbalanceDest  float64\n",
      " 8   newbalanceDest  float64\n",
      " 9   isFraud         int64  \n",
      " 10  isFlaggedFraud  int64  \n",
      "dtypes: float64(5), int64(3), object(3)\n",
      "memory usage: 534.0+ MB\n"
     ]
    }
   ],
   "source": [
    "# look at data types\n",
    "df.info()"
   ]
  },
  {
   "cell_type": "code",
   "execution_count": 8,
   "metadata": {},
   "outputs": [
    {
     "data": {
      "text/plain": [
       "Index(['step', 'type', 'amount', 'nameOrig', 'oldbalanceOrg', 'newbalanceOrig',\n",
       "       'nameDest', 'oldbalanceDest', 'newbalanceDest', 'isFraud',\n",
       "       'isFlaggedFraud'],\n",
       "      dtype='object')"
      ]
     },
     "execution_count": 8,
     "metadata": {},
     "output_type": "execute_result"
    }
   ],
   "source": [
    "df.columns\n",
    "# step\n",
    "# Maps a unit of time in the real world. In this case 1 step is 1 hour of time.\n",
    "\n",
    "# type\n",
    "# CASH-IN, CASH-OUT, DEBIT, PAYMENT and TRANSFER\n",
    "\n",
    "# amount\n",
    "# amount of the transaction in local currency\n",
    "\n",
    "# nameOrig\n",
    "# customer who started the transaction\n",
    "\n",
    "# oldbalanceOrg\n",
    "# initial balance before the transaction\n",
    "\n",
    "# newbalanceOrg\n",
    "# customer's balance after the transaction.\n",
    "\n",
    "# nameDest\n",
    "# recipient ID of the transaction.\n",
    "\n",
    "# oldbalanceDest\n",
    "# initial recipient balance before the transaction.\n",
    "\n",
    "# newbalanceDest\n",
    "# recipient's balance after the transaction.\n",
    "\n",
    "# isFraud\n",
    "# identifies a fraudulent transaction (1) and non fraudulent (0)\n",
    "\n",
    "# isFlaggedFraud\n",
    "# flags illegal attempts to transfer more than 200.000 in a single transaction."
   ]
  },
  {
   "cell_type": "code",
   "execution_count": 9,
   "metadata": {},
   "outputs": [
    {
     "name": "stdout",
     "output_type": "stream",
     "text": [
      "8213 frauds out of 6362620\n",
      "0.001290820448180152 %\n"
     ]
    }
   ],
   "source": [
    "# find out how much fraud occurs\n",
    "n_frauds = df[df[\"isFraud\"] == 1].shape[0]\n",
    "print(f'{n_frauds} frauds out of {df.shape[0]}')\n",
    "print(f\"{n_frauds/df.shape[0]} %\")\n",
    "# 8213 frauds out of 6362620\n",
    "# 0.001290820448180152 %"
   ]
  },
  {
   "cell_type": "code",
   "execution_count": 10,
   "metadata": {},
   "outputs": [
    {
     "name": "stdout",
     "output_type": "stream",
     "text": [
      "                    frauds: 8213\n",
      "  frauds flagged correctly: 16\n",
      "frauds flagged incorrectly: 8197\n",
      "   fraud flag success rate: 0.195%\n"
     ]
    }
   ],
   "source": [
    "# find out the success rate for flagging transactions as fraud\n",
    "mask1 = (df[\"isFlaggedFraud\"] == 1) & (df[\"isFraud\"] == 1)\n",
    "correct_fraud_flags = df[mask1].shape[0]\n",
    "mask2 = (df[\"isFlaggedFraud\"] == 0) & (df[\"isFraud\"] == 1)\n",
    "incorrect_fraud_flags = df[mask2].shape[0]\n",
    "print(f\"                    frauds: {n_frauds}\")\n",
    "print(f\"  frauds flagged correctly: {correct_fraud_flags}\")\n",
    "print(f\"frauds flagged incorrectly: {incorrect_fraud_flags}\")\n",
    "fraud_flag_success_rate = 100 * correct_fraud_flags / n_frauds\n",
    "print(f\"   fraud flag success rate: {round(fraud_flag_success_rate, 3)}%\")"
   ]
  },
  {
   "cell_type": "code",
   "execution_count": 11,
   "metadata": {},
   "outputs": [
    {
     "name": "stdout",
     "output_type": "stream",
     "text": [
      "step int64 [1 2 3 4 5]\n",
      "type object ['PAYMENT' 'TRANSFER' 'CASH_OUT' 'DEBIT' 'CASH_IN']\n",
      "amount float64 [ 9839.64  1864.28   181.   11668.14  7817.71]\n",
      "nameOrig object ['C1231006815' 'C1666544295' 'C1305486145' 'C840083671' 'C2048537720']\n",
      "oldbalanceOrg float64 [170136.  21249.    181.  41554.  53860.]\n",
      "newbalanceOrig float64 [160296.36  19384.72      0.    29885.86  46042.29]\n",
      "nameDest object ['M1979787155' 'M2044282225' 'C553264065' 'C38997010' 'M1230701703']\n",
      "oldbalanceDest float64 [    0. 21182. 41898. 10845.  5083.]\n",
      "newbalanceDest float64 [     0.    40348.79 157982.12  51513.44  16896.7 ]\n",
      "isFraud int64 [0 1]\n",
      "isFlaggedFraud int64 [0 1]\n"
     ]
    }
   ],
   "source": [
    "# see if any columns should be converted to numerical values\n",
    "for column in df.columns:\n",
    "    print(column, df.dtypes[column], df[column].unique()[:5])"
   ]
  },
  {
   "cell_type": "code",
   "execution_count": 12,
   "metadata": {},
   "outputs": [
    {
     "name": "stderr",
     "output_type": "stream",
     "text": [
      "/var/folders/yn/f99zsf6d0_lc4tmwbl4zjwg80000gn/T/ipykernel_811/1216102543.py:2: FutureWarning: The default value of numeric_only in DataFrame.corr is deprecated. In a future version, it will default to False. Select only valid columns or specify the value of numeric_only to silence this warning.\n",
      "  corr = df.corr()\n"
     ]
    }
   ],
   "source": [
    "# see if anything pops out correlation-wise\n",
    "corr = df.corr()\n",
    "# corr\n",
    "# ax = sns.heatmap(\n",
    "#     corr, \n",
    "#     vmin=-1, vmax=1, center=0,\n",
    "#     cmap=sns.diverging_palette(20, 220, n=200),\n",
    "#     square=True\n",
    "# )\n",
    "# ax.set_xticklabels(\n",
    "#     ax.get_xticklabels(),\n",
    "#     rotation=45,\n",
    "#     horizontalalignment='right'\n",
    "# );"
   ]
  },
  {
   "cell_type": "code",
   "execution_count": 13,
   "metadata": {},
   "outputs": [],
   "source": [
    "X = df[df.columns.drop([\"isFraud\", \"isFlaggedFraud\"])].select_dtypes(\n",
    "    include=[\"int64\", \"float64\"]\n",
    ")\n",
    "y = df[\"isFraud\"]"
   ]
  },
  {
   "cell_type": "code",
   "execution_count": 14,
   "metadata": {},
   "outputs": [
    {
     "data": {
      "text/html": [
       "<div>\n",
       "<style scoped>\n",
       "    .dataframe tbody tr th:only-of-type {\n",
       "        vertical-align: middle;\n",
       "    }\n",
       "\n",
       "    .dataframe tbody tr th {\n",
       "        vertical-align: top;\n",
       "    }\n",
       "\n",
       "    .dataframe thead th {\n",
       "        text-align: right;\n",
       "    }\n",
       "</style>\n",
       "<table border=\"1\" class=\"dataframe\">\n",
       "  <thead>\n",
       "    <tr style=\"text-align: right;\">\n",
       "      <th></th>\n",
       "      <th>step</th>\n",
       "      <th>amount</th>\n",
       "      <th>oldbalanceOrg</th>\n",
       "      <th>newbalanceOrig</th>\n",
       "      <th>oldbalanceDest</th>\n",
       "      <th>newbalanceDest</th>\n",
       "    </tr>\n",
       "  </thead>\n",
       "  <tbody>\n",
       "    <tr>\n",
       "      <th>3846334</th>\n",
       "      <td>282</td>\n",
       "      <td>78501.41</td>\n",
       "      <td>11021.00</td>\n",
       "      <td>0.00</td>\n",
       "      <td>387425.31</td>\n",
       "      <td>465926.72</td>\n",
       "    </tr>\n",
       "    <tr>\n",
       "      <th>2944073</th>\n",
       "      <td>230</td>\n",
       "      <td>56614.18</td>\n",
       "      <td>38813.00</td>\n",
       "      <td>0.00</td>\n",
       "      <td>3508031.07</td>\n",
       "      <td>3564645.25</td>\n",
       "    </tr>\n",
       "    <tr>\n",
       "      <th>5784444</th>\n",
       "      <td>400</td>\n",
       "      <td>40480.76</td>\n",
       "      <td>0.00</td>\n",
       "      <td>0.00</td>\n",
       "      <td>66636.52</td>\n",
       "      <td>107117.28</td>\n",
       "    </tr>\n",
       "    <tr>\n",
       "      <th>4608418</th>\n",
       "      <td>329</td>\n",
       "      <td>12143.62</td>\n",
       "      <td>20561.04</td>\n",
       "      <td>8417.43</td>\n",
       "      <td>0.00</td>\n",
       "      <td>0.00</td>\n",
       "    </tr>\n",
       "    <tr>\n",
       "      <th>47499</th>\n",
       "      <td>9</td>\n",
       "      <td>35311.34</td>\n",
       "      <td>0.00</td>\n",
       "      <td>0.00</td>\n",
       "      <td>0.00</td>\n",
       "      <td>0.00</td>\n",
       "    </tr>\n",
       "  </tbody>\n",
       "</table>\n",
       "</div>"
      ],
      "text/plain": [
       "         step    amount  oldbalanceOrg  newbalanceOrig  oldbalanceDest  \\\n",
       "3846334   282  78501.41       11021.00            0.00       387425.31   \n",
       "2944073   230  56614.18       38813.00            0.00      3508031.07   \n",
       "5784444   400  40480.76           0.00            0.00        66636.52   \n",
       "4608418   329  12143.62       20561.04         8417.43            0.00   \n",
       "47499       9  35311.34           0.00            0.00            0.00   \n",
       "\n",
       "         newbalanceDest  \n",
       "3846334       465926.72  \n",
       "2944073      3564645.25  \n",
       "5784444       107117.28  \n",
       "4608418            0.00  \n",
       "47499              0.00  "
      ]
     },
     "execution_count": 14,
     "metadata": {},
     "output_type": "execute_result"
    }
   ],
   "source": [
    "X.sample(5)"
   ]
  },
  {
   "cell_type": "code",
   "execution_count": 30,
   "metadata": {},
   "outputs": [],
   "source": [
    "# use xg boost\n",
    "X_train, X_test, y_train, y_test = train_test_split(\n",
    "    X,\n",
    "    y,\n",
    "    test_size=.25,\n",
    "    random_state=random_state\n",
    ")"
   ]
  },
  {
   "cell_type": "code",
   "execution_count": 35,
   "metadata": {},
   "outputs": [],
   "source": [
    "parameter_grid_rscv = {\n",
    "    \"reg_lambda\": [0.01],\n",
    "    \"reg_alpha\": [0.1],\n",
    "    \"random_state\": [3],\n",
    "    \"n_jobs\": [-1],\n",
    "    \"n_estimators\": [175, 200, 225],\n",
    "    \"learning_rate\": [0.1, 0.08, 0.12],\n",
    "    \"booster\": [\"dart\"],\n",
    "}   "
   ]
  },
  {
   "cell_type": "code",
   "execution_count": 36,
   "metadata": {},
   "outputs": [],
   "source": [
    "xgb = XGBClassifier()"
   ]
  },
  {
   "cell_type": "code",
   "execution_count": 37,
   "metadata": {},
   "outputs": [],
   "source": [
    "randomized_search_CV = RandomizedSearchCV(\n",
    "    estimator=xgb,\n",
    "    param_distributions=parameter_grid_rscv,\n",
    "    random_state=random_state,\n",
    "    cv=3,\n",
    "    n_iter=10,\n",
    "    n_jobs=-1\n",
    ")"
   ]
  },
  {
   "cell_type": "code",
   "execution_count": null,
   "metadata": {},
   "outputs": [],
   "source": [
    "# run 1\n",
    "# 151 minutes\n",
    "# run 2\n",
    "# 578 minutes\n",
    "# run 3\n",
    "# ___ minutes\n",
    "rscv = randomized_search_CV.fit(\n",
    "    X=X_train,\n",
    "    y=y_train\n",
    ")"
   ]
  },
  {
   "cell_type": "code",
   "execution_count": null,
   "metadata": {},
   "outputs": [],
   "source": [
    "#  run 1\n",
    "# {'reg_lambda': 0.01,\n",
    "# 'reg_alpha': 0.1,\n",
    "# 'random_state': 3,\n",
    "# 'n_jobs': -1,\n",
    "# 'n_estimators': 150,\n",
    "# 'learning_rate': 0.1,\n",
    "# 'booster': 'dart'}\n",
    "#  run 2\n",
    "# {\n",
    "#     \"reg_lambda\": 0.01,\n",
    "#     \"reg_alpha\": 0.1,\n",
    "#     \"random_state\": 3,\n",
    "#     \"n_jobs\": -1,\n",
    "#     \"n_estimators\": 175,\n",
    "#     \"learning_rate\": 0.1,\n",
    "#     \"booster\": dart,\n",
    "# }\n",
    "# run 3  \n",
    "result = \"{\\n\"\n",
    "for k in rscv.best_params_:\n",
    "    result += f\"    \\\"{k}\\\": {rscv.best_params_[k]},\\n\"\n",
    "result += \"}\"\n",
    "print(result)\n"
   ]
  },
  {
   "cell_type": "code",
   "execution_count": 56,
   "metadata": {},
   "outputs": [
    {
     "name": "stdout",
     "output_type": "stream",
     "text": [
      "    rscv.best_score_=0.9996938368156515\n"
     ]
    }
   ],
   "source": [
    "print(f\"    rscv.best_score_={rscv.best_score_}\")\n",
    "# print(f\"rscv.best_estimator_={rscv.best_estimator_}\")\n",
    "# print(f\"    rscv.best_index_={rscv.best_index_}\")\n",
    "# print(f\"    rscv.cv_results_={rscv.cv_results_}\")\n",
    "\n",
    "# 1\n",
    "# rscv.best_score_=0.9996938368156515"
   ]
  },
  {
   "attachments": {},
   "cell_type": "markdown",
   "metadata": {},
   "source": [
    "That's way too high. I assume it's overfitted. Let's work on that. Here are some parameters to adjust:\n",
    "\n",
    "```colsample_bytree``` The ratio of features used. Lower ratios avoid over-fitting.\n",
    "\n",
    "```subsample``` The ratio of the training instances used. Lower ratios avoid over-fitting.\n",
    "\n",
    "```max_depth``` The maximum depth of a tree. Lower values avoid over-fitting.\n",
    "\n",
    "```gamma``` The minimum loss reduction required to make a further split. Larger values avoid over-fitting.\n",
    "\n",
    "```eta``` The learning rate of our GBM (i.e. how much we update our prediction with each successive tree). Lower values avoid over-fitting.\n",
    "\n",
    "```min_child_weight``` The minimum sum of instance weight needed in a leaf, in certain applications this relates directly to the minimum number of instances needed in a node. Larger values avoid over-fitting.\n"
   ]
  },
  {
   "cell_type": "code",
   "execution_count": 46,
   "metadata": {},
   "outputs": [],
   "source": [
    "# XGBoost (and other gradient boosting machine routines too) has a number of parameters that can be tuned to avoid over-fitting. I will mention some of the most obvious ones. For example we can change:\n",
    "\n",
    "# the ratio of features used (i.e. columns used); colsample_bytree. Lower ratios avoid over-fitting.\n",
    "\n",
    "# the ratio of the training instances used (i.e. rows used); subsample. Lower ratios avoid over-fitting.\n",
    "\n",
    "# the maximum depth of a tree; max_depth. Lower values avoid over-fitting.\n",
    "\n",
    "# the minimum loss reduction required to make a further split; gamma. Larger values avoid over-fitting.\n",
    "\n",
    "# the learning rate of our GBM (i.e. how much we update our prediction with each successive tree); eta.\n",
    "# Lower values avoid over-fitting.\n",
    "\n",
    "# the minimum sum of instance weight needed in a leaf, in certain applications this relates directly to\n",
    "# the minimum number of instances needed in a node; min_child_weight. Larger values avoid over-fitting.\n",
    "\n",
    "xgb_rscv = XGBClassifier(\n",
    "    n_estimators=175,\n",
    "    learning_rate=0.1,\n",
    "    booster=\"dart\",\n",
    "    reg_alpha=0.1,\n",
    "    reg_lambda=0.01,\n",
    "    n_jobs=-1,\n",
    "    random_state=random_state\n",
    ")"
   ]
  },
  {
   "cell_type": "code",
   "execution_count": 40,
   "metadata": {},
   "outputs": [],
   "source": [
    "# parameter_grid_gscv = {\n",
    "#     \"n_estimators\": [125, 150, 175],\n",
    "#     \"learning_rate\": [0.1, 0.12, 0.08],\n",
    "#     \"booster\": [\"gbtree\", \"gblinear\", \"dart\"],\n",
    "#     \"n_jobs\": [-1],\n",
    "#     \"reg_alpha\": [0.1, 0.08, 0.12],\n",
    "#     \"reg_lambda\": [0.012, 0.008, 0.01],\n",
    "#     \"random_state\": [random_state]\n",
    "# }"
   ]
  },
  {
   "cell_type": "code",
   "execution_count": 42,
   "metadata": {},
   "outputs": [],
   "source": [
    "# grid_search_cv = GridSearchCV(\n",
    "#     estimator=xgb,\n",
    "#     param_grid=parameter_grid_gscv,\n",
    "#     cv=3,\n",
    "#     n_jobs=-1\n",
    "# )"
   ]
  },
  {
   "cell_type": "code",
   "execution_count": null,
   "metadata": {},
   "outputs": [],
   "source": [
    "# gscv = grid_search_cv.fit(\n",
    "#     X=X_train,\n",
    "#     y=y_train\n",
    "# )"
   ]
  },
  {
   "cell_type": "code",
   "execution_count": null,
   "metadata": {},
   "outputs": [],
   "source": [
    "# result = \"{\\n\"\n",
    "# for k in gscv.best_params_:\n",
    "#     result += f\"    \\\"{k}\\\": {rscv.best_params_[k]},\\n\"\n",
    "# result += \"}\"\n",
    "# print(result)"
   ]
  },
  {
   "cell_type": "code",
   "execution_count": 48,
   "metadata": {},
   "outputs": [
    {
     "data": {
      "text/html": [
       "<style>#sk-container-id-1 {color: black;background-color: white;}#sk-container-id-1 pre{padding: 0;}#sk-container-id-1 div.sk-toggleable {background-color: white;}#sk-container-id-1 label.sk-toggleable__label {cursor: pointer;display: block;width: 100%;margin-bottom: 0;padding: 0.3em;box-sizing: border-box;text-align: center;}#sk-container-id-1 label.sk-toggleable__label-arrow:before {content: \"▸\";float: left;margin-right: 0.25em;color: #696969;}#sk-container-id-1 label.sk-toggleable__label-arrow:hover:before {color: black;}#sk-container-id-1 div.sk-estimator:hover label.sk-toggleable__label-arrow:before {color: black;}#sk-container-id-1 div.sk-toggleable__content {max-height: 0;max-width: 0;overflow: hidden;text-align: left;background-color: #f0f8ff;}#sk-container-id-1 div.sk-toggleable__content pre {margin: 0.2em;color: black;border-radius: 0.25em;background-color: #f0f8ff;}#sk-container-id-1 input.sk-toggleable__control:checked~div.sk-toggleable__content {max-height: 200px;max-width: 100%;overflow: auto;}#sk-container-id-1 input.sk-toggleable__control:checked~label.sk-toggleable__label-arrow:before {content: \"▾\";}#sk-container-id-1 div.sk-estimator input.sk-toggleable__control:checked~label.sk-toggleable__label {background-color: #d4ebff;}#sk-container-id-1 div.sk-label input.sk-toggleable__control:checked~label.sk-toggleable__label {background-color: #d4ebff;}#sk-container-id-1 input.sk-hidden--visually {border: 0;clip: rect(1px 1px 1px 1px);clip: rect(1px, 1px, 1px, 1px);height: 1px;margin: -1px;overflow: hidden;padding: 0;position: absolute;width: 1px;}#sk-container-id-1 div.sk-estimator {font-family: monospace;background-color: #f0f8ff;border: 1px dotted black;border-radius: 0.25em;box-sizing: border-box;margin-bottom: 0.5em;}#sk-container-id-1 div.sk-estimator:hover {background-color: #d4ebff;}#sk-container-id-1 div.sk-parallel-item::after {content: \"\";width: 100%;border-bottom: 1px solid gray;flex-grow: 1;}#sk-container-id-1 div.sk-label:hover label.sk-toggleable__label {background-color: #d4ebff;}#sk-container-id-1 div.sk-serial::before {content: \"\";position: absolute;border-left: 1px solid gray;box-sizing: border-box;top: 0;bottom: 0;left: 50%;z-index: 0;}#sk-container-id-1 div.sk-serial {display: flex;flex-direction: column;align-items: center;background-color: white;padding-right: 0.2em;padding-left: 0.2em;position: relative;}#sk-container-id-1 div.sk-item {position: relative;z-index: 1;}#sk-container-id-1 div.sk-parallel {display: flex;align-items: stretch;justify-content: center;background-color: white;position: relative;}#sk-container-id-1 div.sk-item::before, #sk-container-id-1 div.sk-parallel-item::before {content: \"\";position: absolute;border-left: 1px solid gray;box-sizing: border-box;top: 0;bottom: 0;left: 50%;z-index: -1;}#sk-container-id-1 div.sk-parallel-item {display: flex;flex-direction: column;z-index: 1;position: relative;background-color: white;}#sk-container-id-1 div.sk-parallel-item:first-child::after {align-self: flex-end;width: 50%;}#sk-container-id-1 div.sk-parallel-item:last-child::after {align-self: flex-start;width: 50%;}#sk-container-id-1 div.sk-parallel-item:only-child::after {width: 0;}#sk-container-id-1 div.sk-dashed-wrapped {border: 1px dashed gray;margin: 0 0.4em 0.5em 0.4em;box-sizing: border-box;padding-bottom: 0.4em;background-color: white;}#sk-container-id-1 div.sk-label label {font-family: monospace;font-weight: bold;display: inline-block;line-height: 1.2em;}#sk-container-id-1 div.sk-label-container {text-align: center;}#sk-container-id-1 div.sk-container {/* jupyter's `normalize.less` sets `[hidden] { display: none; }` but bootstrap.min.css set `[hidden] { display: none !important; }` so we also need the `!important` here to be able to override the default hidden behavior on the sphinx rendered scikit-learn.org. See: https://github.com/scikit-learn/scikit-learn/issues/21755 */display: inline-block !important;position: relative;}#sk-container-id-1 div.sk-text-repr-fallback {display: none;}</style><div id=\"sk-container-id-1\" class=\"sk-top-container\"><div class=\"sk-text-repr-fallback\"><pre>XGBClassifier(base_score=None, booster=&#x27;dart&#x27;, callbacks=None,\n",
       "              colsample_bylevel=None, colsample_bynode=None,\n",
       "              colsample_bytree=None, early_stopping_rounds=None,\n",
       "              enable_categorical=False, eval_metric=None, feature_types=None,\n",
       "              gamma=None, gpu_id=None, grow_policy=None, importance_type=None,\n",
       "              interaction_constraints=None, learning_rate=0.1, max_bin=None,\n",
       "              max_cat_threshold=None, max_cat_to_onehot=None,\n",
       "              max_delta_step=None, max_depth=None, max_leaves=None,\n",
       "              min_child_weight=None, missing=nan, monotone_constraints=None,\n",
       "              n_estimators=175, n_jobs=-1, num_parallel_tree=None,\n",
       "              predictor=None, random_state=3, ...)</pre><b>In a Jupyter environment, please rerun this cell to show the HTML representation or trust the notebook. <br />On GitHub, the HTML representation is unable to render, please try loading this page with nbviewer.org.</b></div><div class=\"sk-container\" hidden><div class=\"sk-item\"><div class=\"sk-estimator sk-toggleable\"><input class=\"sk-toggleable__control sk-hidden--visually\" id=\"sk-estimator-id-1\" type=\"checkbox\" checked><label for=\"sk-estimator-id-1\" class=\"sk-toggleable__label sk-toggleable__label-arrow\">XGBClassifier</label><div class=\"sk-toggleable__content\"><pre>XGBClassifier(base_score=None, booster=&#x27;dart&#x27;, callbacks=None,\n",
       "              colsample_bylevel=None, colsample_bynode=None,\n",
       "              colsample_bytree=None, early_stopping_rounds=None,\n",
       "              enable_categorical=False, eval_metric=None, feature_types=None,\n",
       "              gamma=None, gpu_id=None, grow_policy=None, importance_type=None,\n",
       "              interaction_constraints=None, learning_rate=0.1, max_bin=None,\n",
       "              max_cat_threshold=None, max_cat_to_onehot=None,\n",
       "              max_delta_step=None, max_depth=None, max_leaves=None,\n",
       "              min_child_weight=None, missing=nan, monotone_constraints=None,\n",
       "              n_estimators=175, n_jobs=-1, num_parallel_tree=None,\n",
       "              predictor=None, random_state=3, ...)</pre></div></div></div></div></div>"
      ],
      "text/plain": [
       "XGBClassifier(base_score=None, booster='dart', callbacks=None,\n",
       "              colsample_bylevel=None, colsample_bynode=None,\n",
       "              colsample_bytree=None, early_stopping_rounds=None,\n",
       "              enable_categorical=False, eval_metric=None, feature_types=None,\n",
       "              gamma=None, gpu_id=None, grow_policy=None, importance_type=None,\n",
       "              interaction_constraints=None, learning_rate=0.1, max_bin=None,\n",
       "              max_cat_threshold=None, max_cat_to_onehot=None,\n",
       "              max_delta_step=None, max_depth=None, max_leaves=None,\n",
       "              min_child_weight=None, missing=nan, monotone_constraints=None,\n",
       "              n_estimators=175, n_jobs=-1, num_parallel_tree=None,\n",
       "              predictor=None, random_state=3, ...)"
      ]
     },
     "execution_count": 48,
     "metadata": {},
     "output_type": "execute_result"
    }
   ],
   "source": [
    "# 35 minutes\n",
    "xgb_rscv.fit(X_train, y_train)"
   ]
  },
  {
   "cell_type": "code",
   "execution_count": 49,
   "metadata": {},
   "outputs": [],
   "source": [
    "# predict fraud with XGBoost model\n",
    "y_predictions = xgb_rscv.predict(X_test)"
   ]
  },
  {
   "cell_type": "code",
   "execution_count": 52,
   "metadata": {},
   "outputs": [
    {
     "name": "stdout",
     "output_type": "stream",
     "text": [
      "<class 'numpy.ndarray'>\n",
      "1590655\n",
      "[0 0 0 ... 0 0 0]\n"
     ]
    }
   ],
   "source": [
    "print(type(y_predictions))\n",
    "print(len(y_predictions))\n",
    "print(y_predictions)"
   ]
  }
 ],
 "metadata": {
  "kernelspec": {
   "display_name": "Python 3",
   "language": "python",
   "name": "python3"
  },
  "language_info": {
   "codemirror_mode": {
    "name": "ipython",
    "version": 3
   },
   "file_extension": ".py",
   "mimetype": "text/x-python",
   "name": "python",
   "nbconvert_exporter": "python",
   "pygments_lexer": "ipython3",
   "version": "3.11.3"
  },
  "orig_nbformat": 4
 },
 "nbformat": 4,
 "nbformat_minor": 2
}

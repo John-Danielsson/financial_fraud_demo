{
 "cells": [
  {
   "cell_type": "code",
   "execution_count": 1,
   "metadata": {},
   "outputs": [
    {
     "name": "stdout",
     "output_type": "stream",
     "text": [
      "Requirement already satisfied: seaborn in /Library/Frameworks/Python.framework/Versions/3.11/lib/python3.11/site-packages (0.12.2)\n",
      "Requirement already satisfied: numpy!=1.24.0,>=1.17 in /Library/Frameworks/Python.framework/Versions/3.11/lib/python3.11/site-packages (from seaborn) (1.24.3)\n",
      "Requirement already satisfied: pandas>=0.25 in /Library/Frameworks/Python.framework/Versions/3.11/lib/python3.11/site-packages (from seaborn) (1.5.3)\n",
      "Requirement already satisfied: matplotlib!=3.6.1,>=3.1 in /Library/Frameworks/Python.framework/Versions/3.11/lib/python3.11/site-packages (from seaborn) (3.6.3)\n",
      "Requirement already satisfied: contourpy>=1.0.1 in /Library/Frameworks/Python.framework/Versions/3.11/lib/python3.11/site-packages (from matplotlib!=3.6.1,>=3.1->seaborn) (1.0.7)\n",
      "Requirement already satisfied: cycler>=0.10 in /Library/Frameworks/Python.framework/Versions/3.11/lib/python3.11/site-packages (from matplotlib!=3.6.1,>=3.1->seaborn) (0.11.0)\n",
      "Requirement already satisfied: fonttools>=4.22.0 in /Library/Frameworks/Python.framework/Versions/3.11/lib/python3.11/site-packages (from matplotlib!=3.6.1,>=3.1->seaborn) (4.38.0)\n",
      "Requirement already satisfied: kiwisolver>=1.0.1 in /Library/Frameworks/Python.framework/Versions/3.11/lib/python3.11/site-packages (from matplotlib!=3.6.1,>=3.1->seaborn) (1.4.4)\n",
      "Requirement already satisfied: packaging>=20.0 in /Library/Frameworks/Python.framework/Versions/3.11/lib/python3.11/site-packages (from matplotlib!=3.6.1,>=3.1->seaborn) (23.1)\n",
      "Requirement already satisfied: pillow>=6.2.0 in /Library/Frameworks/Python.framework/Versions/3.11/lib/python3.11/site-packages (from matplotlib!=3.6.1,>=3.1->seaborn) (9.5.0)\n",
      "Requirement already satisfied: pyparsing>=2.2.1 in /Library/Frameworks/Python.framework/Versions/3.11/lib/python3.11/site-packages (from matplotlib!=3.6.1,>=3.1->seaborn) (3.0.9)\n",
      "Requirement already satisfied: python-dateutil>=2.7 in /Library/Frameworks/Python.framework/Versions/3.11/lib/python3.11/site-packages (from matplotlib!=3.6.1,>=3.1->seaborn) (2.8.2)\n",
      "Requirement already satisfied: pytz>=2020.1 in /Library/Frameworks/Python.framework/Versions/3.11/lib/python3.11/site-packages (from pandas>=0.25->seaborn) (2023.3)\n",
      "Requirement already satisfied: six>=1.5 in /Library/Frameworks/Python.framework/Versions/3.11/lib/python3.11/site-packages (from python-dateutil>=2.7->matplotlib!=3.6.1,>=3.1->seaborn) (1.16.0)\n",
      "Note: you may need to restart the kernel to use updated packages.\n",
      "Requirement already satisfied: xgboost in /Library/Frameworks/Python.framework/Versions/3.11/lib/python3.11/site-packages (1.7.6)\n",
      "Requirement already satisfied: numpy in /Library/Frameworks/Python.framework/Versions/3.11/lib/python3.11/site-packages (from xgboost) (1.24.3)\n",
      "Requirement already satisfied: scipy in /Library/Frameworks/Python.framework/Versions/3.11/lib/python3.11/site-packages (from xgboost) (1.10.1)\n",
      "Note: you may need to restart the kernel to use updated packages.\n",
      "Requirement already satisfied: kaggle in /Library/Frameworks/Python.framework/Versions/3.11/lib/python3.11/site-packages (1.5.15)\n",
      "Requirement already satisfied: six>=1.10 in /Library/Frameworks/Python.framework/Versions/3.11/lib/python3.11/site-packages (from kaggle) (1.16.0)\n",
      "Requirement already satisfied: certifi in /Library/Frameworks/Python.framework/Versions/3.11/lib/python3.11/site-packages (from kaggle) (2022.12.7)\n",
      "Requirement already satisfied: python-dateutil in /Library/Frameworks/Python.framework/Versions/3.11/lib/python3.11/site-packages (from kaggle) (2.8.2)\n",
      "Requirement already satisfied: requests in /Library/Frameworks/Python.framework/Versions/3.11/lib/python3.11/site-packages (from kaggle) (2.28.2)\n",
      "Requirement already satisfied: tqdm in /Library/Frameworks/Python.framework/Versions/3.11/lib/python3.11/site-packages (from kaggle) (4.65.0)\n",
      "Requirement already satisfied: python-slugify in /Library/Frameworks/Python.framework/Versions/3.11/lib/python3.11/site-packages (from kaggle) (8.0.1)\n",
      "Requirement already satisfied: urllib3 in /Library/Frameworks/Python.framework/Versions/3.11/lib/python3.11/site-packages (from kaggle) (1.26.15)\n",
      "Requirement already satisfied: bleach in /Library/Frameworks/Python.framework/Versions/3.11/lib/python3.11/site-packages (from kaggle) (6.0.0)\n",
      "Requirement already satisfied: webencodings in /Library/Frameworks/Python.framework/Versions/3.11/lib/python3.11/site-packages (from bleach->kaggle) (0.5.1)\n",
      "Requirement already satisfied: text-unidecode>=1.3 in /Library/Frameworks/Python.framework/Versions/3.11/lib/python3.11/site-packages (from python-slugify->kaggle) (1.3)\n",
      "Requirement already satisfied: charset-normalizer<4,>=2 in /Library/Frameworks/Python.framework/Versions/3.11/lib/python3.11/site-packages (from requests->kaggle) (3.1.0)\n",
      "Requirement already satisfied: idna<4,>=2.5 in /Library/Frameworks/Python.framework/Versions/3.11/lib/python3.11/site-packages (from requests->kaggle) (3.4)\n",
      "Note: you may need to restart the kernel to use updated packages.\n"
     ]
    }
   ],
   "source": [
    "#import libraries\n",
    "from sys import modules\n",
    "from os import listdir\n",
    "import pandas as pd\n",
    "import numpy as np\n",
    "if not \"seaborn\" in modules:\n",
    "    %pip install seaborn\n",
    "import seaborn as sns\n",
    "if not \"matplotlib\" in modules:\n",
    "    %pip install matplotlib\n",
    "import matplotlib as plt\n",
    "if not \"xgboost\" in modules:\n",
    "    %pip install xgboost\n",
    "from xgboost import XGBClassifier\n",
    "if not \"sklearn\" in modules:\n",
    "    %pip install sklearn\n",
    "from sklearn.model_selection import train_test_split, GridSearchCV, RandomizedSearchCV\n",
    "if not \"kaggle\" in modules:\n",
    "    %pip install kaggle\n",
    "import kaggle\n",
    "\n",
    "# random state to be used for the whole program\n",
    "random_state = 3"
   ]
  },
  {
   "cell_type": "code",
   "execution_count": 36,
   "metadata": {},
   "outputs": [
    {
     "name": "stderr",
     "output_type": "stream",
     "text": [
      "UsageError: Line magic function `%chmod` not found.\n"
     ]
    }
   ],
   "source": [
    "# set up kaggle API access\n",
    "# make sure to upload your API key, which should be in a file called \"kaggle.json\"\n",
    "if \"kaggle.json\" in listdir():\n",
    "    if not \".kaggle\" in listdir():\n",
    "        %mkdir ~/.kaggle/\n",
    "    if not \".kaggle\" in listdir(\".kaggle\"):\n",
    "        %mv kaggle.json ~/.kaggle/\n",
    "\n",
    "# copy this into the terminal\n",
    "# chmod 600 ~/.kaggle/kaggle.json"
   ]
  },
  {
   "attachments": {},
   "cell_type": "markdown",
   "metadata": {},
   "source": [
    "You can download the dataset [here](https://www.kaggle.com/code/arjunjoshua/predicting-fraud-in-financial-payment-services/input)."
   ]
  },
  {
   "cell_type": "code",
   "execution_count": 2,
   "metadata": {},
   "outputs": [],
   "source": [
    "df = pd.read_csv(\"PS_20174392719_1491204439457_log.csv\")"
   ]
  },
  {
   "cell_type": "code",
   "execution_count": 7,
   "metadata": {},
   "outputs": [
    {
     "data": {
      "text/plain": [
       "(6362620, 11)"
      ]
     },
     "execution_count": 7,
     "metadata": {},
     "output_type": "execute_result"
    }
   ],
   "source": [
    "df.shape\n",
    "# (6362620, 11)"
   ]
  },
  {
   "cell_type": "code",
   "execution_count": null,
   "metadata": {},
   "outputs": [],
   "source": [
    "# see if anything pops out with basic stats\n",
    "df.describe()"
   ]
  },
  {
   "cell_type": "code",
   "execution_count": 9,
   "metadata": {},
   "outputs": [
    {
     "name": "stdout",
     "output_type": "stream",
     "text": [
      "<class 'pandas.core.frame.DataFrame'>\n",
      "RangeIndex: 6362620 entries, 0 to 6362619\n",
      "Data columns (total 11 columns):\n",
      " #   Column          Dtype  \n",
      "---  ------          -----  \n",
      " 0   step            int64  \n",
      " 1   type            object \n",
      " 2   amount          float64\n",
      " 3   nameOrig        object \n",
      " 4   oldbalanceOrg   float64\n",
      " 5   newbalanceOrig  float64\n",
      " 6   nameDest        object \n",
      " 7   oldbalanceDest  float64\n",
      " 8   newbalanceDest  float64\n",
      " 9   isFraud         int64  \n",
      " 10  isFlaggedFraud  int64  \n",
      "dtypes: float64(5), int64(3), object(3)\n",
      "memory usage: 534.0+ MB\n"
     ]
    }
   ],
   "source": [
    "# look at data types\n",
    "df.info()"
   ]
  },
  {
   "cell_type": "code",
   "execution_count": null,
   "metadata": {},
   "outputs": [],
   "source": [
    "df.columns\n",
    "# step\n",
    "# Maps a unit of time in the real world. In this case 1 step is 1 hour of time.\n",
    "\n",
    "# type\n",
    "# CASH-IN, CASH-OUT, DEBIT, PAYMENT and TRANSFER\n",
    "\n",
    "# amount\n",
    "# amount of the transaction in local currency\n",
    "\n",
    "# nameOrig\n",
    "# customer who started the transaction\n",
    "\n",
    "# oldbalanceOrg\n",
    "# initial balance before the transaction\n",
    "\n",
    "# newbalanceOrg\n",
    "# customer's balance after the transaction.\n",
    "\n",
    "# nameDest\n",
    "# recipient ID of the transaction.\n",
    "\n",
    "# oldbalanceDest\n",
    "# initial recipient balance before the transaction.\n",
    "\n",
    "# newbalanceDest\n",
    "# recipient's balance after the transaction.\n",
    "\n",
    "# isFraud\n",
    "# identifies a fraudulent transaction (1) and non fraudulent (0)\n",
    "\n",
    "# isFlaggedFraud\n",
    "# flags illegal attempts to transfer more than 200.000 in a single transaction."
   ]
  },
  {
   "cell_type": "code",
   "execution_count": 3,
   "metadata": {},
   "outputs": [
    {
     "name": "stdout",
     "output_type": "stream",
     "text": [
      "8213 frauds out of 6362620\n",
      "0.001290820448180152 %\n"
     ]
    }
   ],
   "source": [
    "# find out how much fraud occurs\n",
    "n_frauds = df[df[\"isFraud\"] == 1].shape[0]\n",
    "print(f'{n_frauds} frauds out of {df.shape[0]}')\n",
    "print(f\"{n_frauds/df.shape[0]} %\")\n",
    "# 8213 frauds out of 6362620\n",
    "# 0.001290820448180152 %"
   ]
  },
  {
   "cell_type": "code",
   "execution_count": 4,
   "metadata": {},
   "outputs": [
    {
     "name": "stdout",
     "output_type": "stream",
     "text": [
      "                    frauds: 8213\n",
      "  frauds flagged correctly: 16\n",
      "frauds flagged incorrectly: 8197\n",
      "   fraud flag success rate: 0.195%\n"
     ]
    }
   ],
   "source": [
    "# find out the success rate for flagging transactions as fraud\n",
    "mask1 = (df[\"isFlaggedFraud\"] == 1) & (df[\"isFraud\"] == 1)\n",
    "correct_fraud_flags = df[mask1].shape[0]\n",
    "mask2 = (df[\"isFlaggedFraud\"] == 0) & (df[\"isFraud\"] == 1)\n",
    "incorrect_fraud_flags = df[mask2].shape[0]\n",
    "print(f\"                    frauds: {n_frauds}\")\n",
    "print(f\"  frauds flagged correctly: {correct_fraud_flags}\")\n",
    "print(f\"frauds flagged incorrectly: {incorrect_fraud_flags}\")\n",
    "fraud_flag_success_rate = 100 * correct_fraud_flags / n_frauds\n",
    "print(f\"   fraud flag success rate: {round(fraud_flag_success_rate, 3)}%\")"
   ]
  },
  {
   "cell_type": "code",
   "execution_count": null,
   "metadata": {},
   "outputs": [],
   "source": [
    "# see if any columns should be converted to numerical values\n",
    "for column in df.columns:\n",
    "    print(column, df.dtypes[column], df[column].unique()[:5])"
   ]
  },
  {
   "cell_type": "code",
   "execution_count": null,
   "metadata": {},
   "outputs": [],
   "source": [
    "# see if anything pops out correlation-wise\n",
    "corr = df.corr()\n",
    "# corr\n",
    "# ax = sns.heatmap(\n",
    "#     corr, \n",
    "#     vmin=-1, vmax=1, center=0,\n",
    "#     cmap=sns.diverging_palette(20, 220, n=200),\n",
    "#     square=True\n",
    "# )\n",
    "# ax.set_xticklabels(\n",
    "#     ax.get_xticklabels(),\n",
    "#     rotation=45,\n",
    "#     horizontalalignment='right'\n",
    "# );"
   ]
  },
  {
   "cell_type": "code",
   "execution_count": 10,
   "metadata": {},
   "outputs": [],
   "source": [
    "X = df[df.columns.drop([\"isFraud\", \"isFlaggedFraud\"])].select_dtypes(\n",
    "    include=[\"int64\", \"float64\"]\n",
    ")\n",
    "y = df[\"isFraud\"]"
   ]
  },
  {
   "cell_type": "code",
   "execution_count": 12,
   "metadata": {},
   "outputs": [
    {
     "data": {
      "text/html": [
       "<div>\n",
       "<style scoped>\n",
       "    .dataframe tbody tr th:only-of-type {\n",
       "        vertical-align: middle;\n",
       "    }\n",
       "\n",
       "    .dataframe tbody tr th {\n",
       "        vertical-align: top;\n",
       "    }\n",
       "\n",
       "    .dataframe thead th {\n",
       "        text-align: right;\n",
       "    }\n",
       "</style>\n",
       "<table border=\"1\" class=\"dataframe\">\n",
       "  <thead>\n",
       "    <tr style=\"text-align: right;\">\n",
       "      <th></th>\n",
       "      <th>step</th>\n",
       "      <th>amount</th>\n",
       "      <th>oldbalanceOrg</th>\n",
       "      <th>newbalanceOrig</th>\n",
       "      <th>oldbalanceDest</th>\n",
       "      <th>newbalanceDest</th>\n",
       "    </tr>\n",
       "  </thead>\n",
       "  <tbody>\n",
       "    <tr>\n",
       "      <th>4267372</th>\n",
       "      <td>307</td>\n",
       "      <td>133968.30</td>\n",
       "      <td>39786.00</td>\n",
       "      <td>0.0</td>\n",
       "      <td>1663576.18</td>\n",
       "      <td>1797544.48</td>\n",
       "    </tr>\n",
       "    <tr>\n",
       "      <th>2890300</th>\n",
       "      <td>228</td>\n",
       "      <td>11039.48</td>\n",
       "      <td>0.00</td>\n",
       "      <td>0.0</td>\n",
       "      <td>0.00</td>\n",
       "      <td>0.00</td>\n",
       "    </tr>\n",
       "    <tr>\n",
       "      <th>1694545</th>\n",
       "      <td>159</td>\n",
       "      <td>422920.50</td>\n",
       "      <td>170973.00</td>\n",
       "      <td>593893.5</td>\n",
       "      <td>0.00</td>\n",
       "      <td>0.00</td>\n",
       "    </tr>\n",
       "    <tr>\n",
       "      <th>3924708</th>\n",
       "      <td>285</td>\n",
       "      <td>3400051.36</td>\n",
       "      <td>20850.62</td>\n",
       "      <td>0.0</td>\n",
       "      <td>4303101.64</td>\n",
       "      <td>7703153.00</td>\n",
       "    </tr>\n",
       "    <tr>\n",
       "      <th>3409401</th>\n",
       "      <td>255</td>\n",
       "      <td>857.48</td>\n",
       "      <td>0.00</td>\n",
       "      <td>0.0</td>\n",
       "      <td>0.00</td>\n",
       "      <td>0.00</td>\n",
       "    </tr>\n",
       "  </tbody>\n",
       "</table>\n",
       "</div>"
      ],
      "text/plain": [
       "         step      amount  oldbalanceOrg  newbalanceOrig  oldbalanceDest  \\\n",
       "4267372   307   133968.30       39786.00             0.0      1663576.18   \n",
       "2890300   228    11039.48           0.00             0.0            0.00   \n",
       "1694545   159   422920.50      170973.00        593893.5            0.00   \n",
       "3924708   285  3400051.36       20850.62             0.0      4303101.64   \n",
       "3409401   255      857.48           0.00             0.0            0.00   \n",
       "\n",
       "         newbalanceDest  \n",
       "4267372      1797544.48  \n",
       "2890300            0.00  \n",
       "1694545            0.00  \n",
       "3924708      7703153.00  \n",
       "3409401            0.00  "
      ]
     },
     "execution_count": 12,
     "metadata": {},
     "output_type": "execute_result"
    }
   ],
   "source": [
    "X.sample(5)"
   ]
  },
  {
   "cell_type": "code",
   "execution_count": 13,
   "metadata": {},
   "outputs": [],
   "source": [
    "# use xg boost\n",
    "X_train, X_test, y_train, y_test = train_test_split(\n",
    "    X,\n",
    "    y,\n",
    "    test_size=.25,\n",
    "    random_state=random_state\n",
    ")"
   ]
  },
  {
   "cell_type": "code",
   "execution_count": 19,
   "metadata": {},
   "outputs": [
    {
     "name": "stdout",
     "output_type": "stream",
     "text": [
      "243\n"
     ]
    }
   ],
   "source": [
    "parameter_grid_rscv = {\n",
    "    \"n_estimators\": [50, 100, 150],\n",
    "    \"learning_rate\": [0.1, 0.05, 0.01],\n",
    "    \"booster\": [\"gbtree\", \"gblinear\", \"dart\"],\n",
    "    \"n_jobs\": [-1],\n",
    "    \"reg_alpha\": [0.1, 0.05, 0.01],\n",
    "    \"reg_lambda\": [0.1, 0.05, 0.01],\n",
    "    \"random_state\": [random_state]\n",
    "}\n",
    "permutations = 1\n",
    "for k in parameter_grid_rscv:\n",
    "    permutations *= len(parameter_grid_rscv[k])\n",
    "print(permutations)\n",
    "    "
   ]
  },
  {
   "cell_type": "code",
   "execution_count": 26,
   "metadata": {},
   "outputs": [],
   "source": [
    "xgb = XGBClassifier()"
   ]
  },
  {
   "cell_type": "code",
   "execution_count": 21,
   "metadata": {},
   "outputs": [],
   "source": [
    "randomized_search_CV = RandomizedSearchCV(\n",
    "    estimator=xgb,\n",
    "    param_distributions=parameter_grid_rscv,\n",
    "    random_state=random_state,\n",
    "    cv=3,\n",
    "    n_iter=10,\n",
    "    n_jobs=-1\n",
    ")"
   ]
  },
  {
   "cell_type": "code",
   "execution_count": 22,
   "metadata": {},
   "outputs": [],
   "source": [
    "# 151 minutes\n",
    "rscv = randomized_search_CV.fit(\n",
    "    X=X_train,\n",
    "    y=y_train\n",
    ")"
   ]
  },
  {
   "cell_type": "code",
   "execution_count": 23,
   "metadata": {},
   "outputs": [
    {
     "name": "stdout",
     "output_type": "stream",
     "text": [
      "{'reg_lambda': 0.01, 'reg_alpha': 0.1, 'random_state': 3, 'n_jobs': -1, 'n_estimators': 150, 'learning_rate': 0.1, 'booster': 'dart'}\n"
     ]
    }
   ],
   "source": [
    "print(rscv.best_params_)\n",
    "# {'reg_lambda': 0.01, 'reg_alpha': 0.1, 'random_state': 3, 'n_jobs': -1, 'n_estimators': 150, 'learning_rate': 0.1, 'booster': 'dart'}"
   ]
  },
  {
   "cell_type": "code",
   "execution_count": 24,
   "metadata": {},
   "outputs": [],
   "source": [
    "xgb_rscv = XGBClassifier(\n",
    "    n_estimators=150,\n",
    "    learning_rate=0.1,\n",
    "    booster=\"dart\",\n",
    "    reg_alpha=0.1,\n",
    "    reg_lambda=0.01,\n",
    "    n_jobs=-1,\n",
    "    random_state=random_state\n",
    ")"
   ]
  },
  {
   "cell_type": "code",
   "execution_count": 36,
   "metadata": {},
   "outputs": [],
   "source": [
    "parameter_grid_gscv = {\n",
    "    \"n_estimators\": [125, 150, 175],\n",
    "    \"learning_rate\": [0.1, 0.12, 0.08],\n",
    "    \"booster\": [\"gbtree\", \"gblinear\", \"dart\"],\n",
    "    \"n_jobs\": [-1],\n",
    "    \"reg_alpha\": [0.1, 0.08, 0.12],\n",
    "    \"reg_lambda\": [0.012, 0.008, 0.01],\n",
    "    \"random_state\": [random_state]\n",
    "}"
   ]
  },
  {
   "cell_type": "code",
   "execution_count": 37,
   "metadata": {},
   "outputs": [],
   "source": [
    "grid_search_cv = GridSearchCV(\n",
    "    estimator=xgb,\n",
    "    param_grid=parameter_grid_gscv,\n",
    "    cv=3,\n",
    "    n_jobs=-1\n",
    ")"
   ]
  },
  {
   "cell_type": "code",
   "execution_count": null,
   "metadata": {},
   "outputs": [],
   "source": [
    "gscv = grid_search_cv.fit(\n",
    "    X=X_train,\n",
    "    y=y_train\n",
    ")"
   ]
  },
  {
   "cell_type": "code",
   "execution_count": null,
   "metadata": {},
   "outputs": [],
   "source": [
    "print(gscv.best_params_)"
   ]
  }
 ],
 "metadata": {
  "kernelspec": {
   "display_name": "Python 3",
   "language": "python",
   "name": "python3"
  },
  "language_info": {
   "codemirror_mode": {
    "name": "ipython",
    "version": 3
   },
   "file_extension": ".py",
   "mimetype": "text/x-python",
   "name": "python",
   "nbconvert_exporter": "python",
   "pygments_lexer": "ipython3",
   "version": "3.11.3"
  },
  "orig_nbformat": 4
 },
 "nbformat": 4,
 "nbformat_minor": 2
}

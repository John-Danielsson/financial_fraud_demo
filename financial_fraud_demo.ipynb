{
 "cells": [
  {
   "cell_type": "code",
   "execution_count": 48,
   "metadata": {},
   "outputs": [],
   "source": [
    "#import libraries\n",
    "from sys import modules\n",
    "from os import listdir\n",
    "import pandas as pd\n",
    "import numpy as np\n",
    "if not \"seaborn\" in modules:\n",
    "    %pip install seaborn\n",
    "import seaborn as sns\n",
    "if not \"matplotlib\" in modules:\n",
    "    %pip install matplotlib\n",
    "import matplotlib as plt\n",
    "if not \"xgboost\" in modules:\n",
    "    %pip install xgboost\n",
    "from xgboost import XGBClassifier\n",
    "if not \"sklearn\" in modules:\n",
    "    %pip install sklearn\n",
    "from sklearn.model_selection import train_test_split, GridSearchCV, RandomizedSearchCV\n",
    "if not \"kaggle\" in modules:\n",
    "    %pip install kaggle\n",
    "import kaggle\n",
    "\n",
    "# random state to be used for the whole program\n",
    "random_state = 3"
   ]
  },
  {
   "cell_type": "code",
   "execution_count": 36,
   "metadata": {},
   "outputs": [
    {
     "name": "stderr",
     "output_type": "stream",
     "text": [
      "UsageError: Line magic function `%chmod` not found.\n"
     ]
    }
   ],
   "source": [
    "# set up kaggle API access\n",
    "# make sure to upload your API key, which should be in a file called \"kaggle.json\"\n",
    "if \"kaggle.json\" in listdir():\n",
    "    if not \".kaggle\" in listdir():\n",
    "        %mkdir ~/.kaggle/\n",
    "    if not \".kaggle\" in listdir(\".kaggle\"):\n",
    "        %mv kaggle.json ~/.kaggle/\n",
    "\n",
    "# copy this into the terminal\n",
    "# chmod 600 ~/.kaggle/kaggle.json"
   ]
  },
  {
   "attachments": {},
   "cell_type": "markdown",
   "metadata": {},
   "source": [
    "You can download the dataset [here](https://www.kaggle.com/code/arjunjoshua/predicting-fraud-in-financial-payment-services/input)."
   ]
  },
  {
   "cell_type": "code",
   "execution_count": 46,
   "metadata": {},
   "outputs": [],
   "source": [
    "df = pd.read_csv(\"PS_20174392719_1491204439457_log.csv\")"
   ]
  },
  {
   "cell_type": "code",
   "execution_count": 7,
   "metadata": {},
   "outputs": [
    {
     "data": {
      "text/plain": [
       "(6362620, 11)"
      ]
     },
     "execution_count": 7,
     "metadata": {},
     "output_type": "execute_result"
    }
   ],
   "source": [
    "df.shape\n",
    "# (6362620, 11)"
   ]
  },
  {
   "cell_type": "code",
   "execution_count": null,
   "metadata": {},
   "outputs": [],
   "source": [
    "# see if anything pops out with basic stats\n",
    "df.describe()"
   ]
  },
  {
   "cell_type": "code",
   "execution_count": 9,
   "metadata": {},
   "outputs": [
    {
     "name": "stdout",
     "output_type": "stream",
     "text": [
      "<class 'pandas.core.frame.DataFrame'>\n",
      "RangeIndex: 6362620 entries, 0 to 6362619\n",
      "Data columns (total 11 columns):\n",
      " #   Column          Dtype  \n",
      "---  ------          -----  \n",
      " 0   step            int64  \n",
      " 1   type            object \n",
      " 2   amount          float64\n",
      " 3   nameOrig        object \n",
      " 4   oldbalanceOrg   float64\n",
      " 5   newbalanceOrig  float64\n",
      " 6   nameDest        object \n",
      " 7   oldbalanceDest  float64\n",
      " 8   newbalanceDest  float64\n",
      " 9   isFraud         int64  \n",
      " 10  isFlaggedFraud  int64  \n",
      "dtypes: float64(5), int64(3), object(3)\n",
      "memory usage: 534.0+ MB\n"
     ]
    }
   ],
   "source": [
    "# look at data types\n",
    "df.info()"
   ]
  },
  {
   "cell_type": "code",
   "execution_count": null,
   "metadata": {},
   "outputs": [],
   "source": [
    "df.columns\n",
    "# step\n",
    "# Maps a unit of time in the real world. In this case 1 step is 1 hour of time.\n",
    "\n",
    "# type\n",
    "# CASH-IN, CASH-OUT, DEBIT, PAYMENT and TRANSFER\n",
    "\n",
    "# amount\n",
    "# amount of the transaction in local currency\n",
    "\n",
    "# nameOrig\n",
    "# customer who started the transaction\n",
    "\n",
    "# oldbalanceOrg\n",
    "# initial balance before the transaction\n",
    "\n",
    "# newbalanceOrg\n",
    "# customer's balance after the transaction.\n",
    "\n",
    "# nameDest\n",
    "# recipient ID of the transaction.\n",
    "\n",
    "# oldbalanceDest\n",
    "# initial recipient balance before the transaction.\n",
    "\n",
    "# newbalanceDest\n",
    "# recipient's balance after the transaction.\n",
    "\n",
    "# isFraud\n",
    "# identifies a fraudulent transaction (1) and non fraudulent (0)\n",
    "\n",
    "# isFlaggedFraud\n",
    "# flags illegal attempts to transfer more than 200.000 in a single transaction."
   ]
  },
  {
   "cell_type": "code",
   "execution_count": 37,
   "metadata": {},
   "outputs": [
    {
     "name": "stdout",
     "output_type": "stream",
     "text": [
      "8213 frauds out of 6362620\n",
      "0.001290820448180152 %\n"
     ]
    }
   ],
   "source": [
    "# find out how much fraud occurs\n",
    "n_frauds = df[df[\"isFraud\"] == 1].shape[0]\n",
    "print(f'{n_frauds} frauds out of {df.shape[0]}')\n",
    "print(f\"{n_frauds/df.shape[0]} %\")\n",
    "# 8213 frauds out of 6362620\n",
    "# 0.001290820448180152 %"
   ]
  },
  {
   "cell_type": "code",
   "execution_count": 44,
   "metadata": {},
   "outputs": [
    {
     "name": "stdout",
     "output_type": "stream",
     "text": [
      "                    frauds: 8213\n",
      "  frauds flagged correctly: 16\n",
      "frauds flagged incorrectly: 8197\n",
      "   fraud flag success rate: 0.195%\n"
     ]
    }
   ],
   "source": [
    "# find out the success rate for flagging transactions as fraud\n",
    "mask1 = (df[\"isFlaggedFraud\"] == 1) & (df[\"isFraud\"] == 1)\n",
    "correct_fraud_flags = df[mask1].shape[0]\n",
    "mask2 = (df[\"isFlaggedFraud\"] == 0) & (df[\"isFraud\"] == 1)\n",
    "incorrect_fraud_flags = df[mask2].shape[0]\n",
    "print(f\"                    frauds: {n_frauds}\")\n",
    "print(f\"  frauds flagged correctly: {correct_fraud_flags}\")\n",
    "print(f\"frauds flagged incorrectly: {incorrect_fraud_flags}\")\n",
    "fraud_flag_success_rate = 100 * correct_fraud_flags / n_frauds\n",
    "print(f\"   fraud flag success rate: {round(fraud_flag_success_rate, 3)}%\")"
   ]
  },
  {
   "cell_type": "code",
   "execution_count": null,
   "metadata": {},
   "outputs": [],
   "source": [
    "# see if any columns should be converted to numerical values\n",
    "for column in df.columns:\n",
    "    print(column, df.dtypes[column], df[column].unique()[:5])"
   ]
  },
  {
   "cell_type": "code",
   "execution_count": null,
   "metadata": {},
   "outputs": [],
   "source": [
    "# see if anything pops out correlation-wise\n",
    "corr = df.corr()\n",
    "# corr\n",
    "# ax = sns.heatmap(\n",
    "#     corr, \n",
    "#     vmin=-1, vmax=1, center=0,\n",
    "#     cmap=sns.diverging_palette(20, 220, n=200),\n",
    "#     square=True\n",
    "# )\n",
    "# ax.set_xticklabels(\n",
    "#     ax.get_xticklabels(),\n",
    "#     rotation=45,\n",
    "#     horizontalalignment='right'\n",
    "# );"
   ]
  },
  {
   "cell_type": "code",
   "execution_count": 18,
   "metadata": {},
   "outputs": [],
   "source": [
    "# use xg boost\n",
    "X_train, X_test, y_train, y_test = train_test_split(\n",
    "    df[df.columns.drop([\"isFraud\", \"isFlaggedFraud\"])],\n",
    "    df[\"isFraud\"],\n",
    "    test_size=.25,\n",
    "    random_state=random_state\n",
    ")"
   ]
  },
  {
   "cell_type": "code",
   "execution_count": 53,
   "metadata": {},
   "outputs": [
    {
     "name": "stdout",
     "output_type": "stream",
     "text": [
      "1458\n"
     ]
    }
   ],
   "source": [
    "parameter_grid = {\n",
    "    \"n_estimators\": [50, 100, 150],\n",
    "    \"max_depth\": [10, 15, 20],\n",
    "    \"grow_policy\": [0, 1],\n",
    "    \"learning_rate\": [0.1, 0.05, 0.01],\n",
    "    \"booster\": [\"gbtree\", \"gblinear\", \"dart\"],\n",
    "    \"n_jobs\": [-1],\n",
    "    \"reg_alpha\": [0.1, 0.05, 0.01],\n",
    "    \"reg_lambda\": [0.1, 0.05, 0.01],\n",
    "    \"random_state\": [random_state]\n",
    "}\n",
    "permutations = 1\n",
    "for k in parameter_grid:\n",
    "    permutations *= len(parameter_grid[k])\n",
    "print(permutations)\n",
    "    "
   ]
  },
  {
   "cell_type": "code",
   "execution_count": 58,
   "metadata": {},
   "outputs": [],
   "source": [
    "xgb = XGBClassifier()"
   ]
  },
  {
   "cell_type": "code",
   "execution_count": 59,
   "metadata": {},
   "outputs": [],
   "source": [
    "randomized_search_CV = RandomizedSearchCV(\n",
    "    estimator=xgb,\n",
    "    param_distributions=parameter_grid,\n",
    "    random_state=random_state,\n",
    "    cv=3,\n",
    "    n_iter=10,\n",
    "    n_jobs=-1\n",
    ")"
   ]
  },
  {
   "cell_type": "code",
   "execution_count": 60,
   "metadata": {},
   "outputs": [],
   "source": [
    "randomized_search_CV.fit(\n",
    "    X=X_train,\n",
    "    y=y_train\n",
    ")"
   ]
  }
 ],
 "metadata": {
  "kernelspec": {
   "display_name": "Python 3",
   "language": "python",
   "name": "python3"
  },
  "language_info": {
   "codemirror_mode": {
    "name": "ipython",
    "version": 3
   },
   "file_extension": ".py",
   "mimetype": "text/x-python",
   "name": "python",
   "nbconvert_exporter": "python",
   "pygments_lexer": "ipython3",
   "version": "3.11.3"
  },
  "orig_nbformat": 4
 },
 "nbformat": 4,
 "nbformat_minor": 2
}

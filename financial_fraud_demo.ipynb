{
 "cells": [
  {
   "cell_type": "code",
   "execution_count": null,
   "metadata": {},
   "outputs": [],
   "source": [
    "import pandas as pd\n",
    "import numpy as np\n",
    "import seaborn as sns\n",
    "import matplotlib\n",
    "from sys import modules\n",
    "from os import listdir"
   ]
  },
  {
   "cell_type": "code",
   "execution_count": null,
   "metadata": {},
   "outputs": [],
   "source": [
    "if not \"kaggle\" in modules:\n",
    "    %pip install kaggle\n",
    "if \"kaggle.json\" in listdir():\n",
    "    if not \".kaggle\" in listdir():\n",
    "        %mkdir ~/.kaggle/\n",
    "        %mv kaggle.json ~/.kaggle/\n",
    "    %chmod 600 ~/.kaggle/kaggle.json\n",
    "if not \"switrs.sqlite\" in listdir():\n",
    "    %kaggle kernels pull arjunjoshua/predicting-fraud-in-financial-payment-services\n",
    "    %unzip predicting-fraud-in-financial-payment-services.zip"
   ]
  }
 ],
 "metadata": {
  "language_info": {
   "name": "python"
  },
  "orig_nbformat": 4
 },
 "nbformat": 4,
 "nbformat_minor": 2
}
